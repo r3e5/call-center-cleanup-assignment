{
 "cells": [
  {
   "cell_type": "markdown",
   "id": "331a1c4f",
   "metadata": {},
   "source": [
    "# Call Center Cleanup\n",
    "\n",
    "For this assignment, we will be working with call center data. You can start working on the assignment after the first lesson on Exploratory Data Analysis with pandas. Make sure to read the whole assignment before starting anything! As you code along in the Jupyter notebook, you are asked to make note of the results of your analysis. Do so by clicking on the results box and adding your notes beside each question.\n",
    "\n",
    "## Business Issue and Understanding\n",
    "\n",
    "You are working for a company that has two call centers: the North Call Center and the South Call Center. The company is looking to possibly hire five additional reps to enhance customer experience. Your task is to explore how efficient the current reps are in each branch to determine which branch would benefit from additional assistance.\n",
    "\n",
    "### How the Call Center Works\n",
    "\n",
    "Call center representatives are assigned queues. When calls are assigned to a queue, the call is assigned to the next person in line in the queue. After a call is assigned to a representative, the amount of time between assignment and the call starting is divided into busy minutes and not ready minutes. If the call is incoming and a customer is waiting on the phone for a rep, the time is split into three categories: busy minutes, not ready minutes, and incoming call wait time. Once the rep has the customer on the phone, there might be during call wait time, where the call is put on hold while the rep gets an answer for the customer.\n",
    "\n",
    "### Notes about the Dataset\n",
    "\n",
    "If you haven't worked in a call center before, these notes might help you throughout your analysis.\n",
    "\n",
    "* The call purpose is tagged for each call.\n",
    "* The time of the call is tagged in 1 hour blocks starting at 9:00 AM and ending at 5:00 PM.\n",
    "* Calls are tagged as incoming or outgoing.\n",
    "* Reps are assigned to queues. When the reps are working, they take calls in the order of their queue.\n",
    "* A call that is dropped due to technical error or missed by the center because they have reached maximum capacity is a lost call.\n",
    "* An abandoned call is when the customer hangs up because they have been waiting for too long.\n",
    "* Busy Minutes: the amount of time after a call comes in or needs to go out where the assigned rep is not available because they are busy with other customers.\n",
    "* Not Ready Minutes: the amount of time after a call comes in or needs to go out where the assigned rep is not available because they are not ready (for example, getting water).\n",
    "* Incoming Wait Time - amount of time after assigned rep is available to take the call customer waits for representative to pick up a call. This is tracked in seconds.\n",
    "* During Call Wait Time - amount of time during call that customer has to wait for representative\n",
    "\n",
    "## Getting Started\n",
    "\n",
    "You have two CSVs at your disposal, `NorthCallCenter.csv` and `SouthCallCenter.csv`. Import the appropriate libraries and create two dataframes, one called `north_df` and one called `south_df`."
   ]
  },
  {
   "cell_type": "code",
   "execution_count": 3,
   "id": "f362436b",
   "metadata": {},
   "outputs": [
    {
     "name": "stdout",
     "output_type": "stream",
     "text": [
      "The columns are:\n"
     ]
    },
    {
     "data": {
      "text/html": [
       "<div>\n",
       "<style scoped>\n",
       "    .dataframe tbody tr th:only-of-type {\n",
       "        vertical-align: middle;\n",
       "    }\n",
       "\n",
       "    .dataframe tbody tr th {\n",
       "        vertical-align: top;\n",
       "    }\n",
       "\n",
       "    .dataframe thead th {\n",
       "        text-align: right;\n",
       "    }\n",
       "</style>\n",
       "<table border=\"1\" class=\"dataframe\">\n",
       "  <thead>\n",
       "    <tr style=\"text-align: right;\">\n",
       "      <th></th>\n",
       "      <th>Unnamed: 0</th>\n",
       "      <th>Branch</th>\n",
       "      <th>Call Purpose</th>\n",
       "      <th>Time Block</th>\n",
       "      <th>Incoming or Outgoing</th>\n",
       "      <th>Queue</th>\n",
       "      <th>Rep ID</th>\n",
       "      <th>Sale</th>\n",
       "      <th>Lost Call</th>\n",
       "      <th>Abandoned</th>\n",
       "      <th>Busy Minutes</th>\n",
       "      <th>Not Ready Minutes</th>\n",
       "      <th>Incoming Wait Time</th>\n",
       "      <th>During Call Wait Time</th>\n",
       "      <th>Calls</th>\n",
       "    </tr>\n",
       "  </thead>\n",
       "  <tbody>\n",
       "    <tr>\n",
       "      <th>0</th>\n",
       "      <td>0</td>\n",
       "      <td>North</td>\n",
       "      <td>Complaint</td>\n",
       "      <td>9:00 AM</td>\n",
       "      <td>Incoming</td>\n",
       "      <td>B</td>\n",
       "      <td>Brent</td>\n",
       "      <td>NO</td>\n",
       "      <td>0</td>\n",
       "      <td>1</td>\n",
       "      <td>9</td>\n",
       "      <td>2</td>\n",
       "      <td>1.0</td>\n",
       "      <td>4</td>\n",
       "      <td>1</td>\n",
       "    </tr>\n",
       "    <tr>\n",
       "      <th>1</th>\n",
       "      <td>1</td>\n",
       "      <td>North</td>\n",
       "      <td>Sales Support</td>\n",
       "      <td>11:00 AM</td>\n",
       "      <td>Incoming</td>\n",
       "      <td>A</td>\n",
       "      <td>Cam</td>\n",
       "      <td>NO</td>\n",
       "      <td>0</td>\n",
       "      <td>0</td>\n",
       "      <td>11</td>\n",
       "      <td>1</td>\n",
       "      <td>1.0</td>\n",
       "      <td>3</td>\n",
       "      <td>1</td>\n",
       "    </tr>\n",
       "    <tr>\n",
       "      <th>2</th>\n",
       "      <td>2</td>\n",
       "      <td>North</td>\n",
       "      <td>Sales Support</td>\n",
       "      <td>11:00 AM</td>\n",
       "      <td>Incoming</td>\n",
       "      <td>B</td>\n",
       "      <td>Todd</td>\n",
       "      <td>NO</td>\n",
       "      <td>0</td>\n",
       "      <td>0</td>\n",
       "      <td>9</td>\n",
       "      <td>3</td>\n",
       "      <td>1.0</td>\n",
       "      <td>3</td>\n",
       "      <td>1</td>\n",
       "    </tr>\n",
       "    <tr>\n",
       "      <th>3</th>\n",
       "      <td>3</td>\n",
       "      <td>North</td>\n",
       "      <td>Sales Support</td>\n",
       "      <td>4:00 PM</td>\n",
       "      <td>Incoming</td>\n",
       "      <td>B</td>\n",
       "      <td>Brent</td>\n",
       "      <td>NO</td>\n",
       "      <td>0</td>\n",
       "      <td>0</td>\n",
       "      <td>11</td>\n",
       "      <td>2</td>\n",
       "      <td>1.0</td>\n",
       "      <td>4</td>\n",
       "      <td>1</td>\n",
       "    </tr>\n",
       "    <tr>\n",
       "      <th>4</th>\n",
       "      <td>4</td>\n",
       "      <td>North</td>\n",
       "      <td>Product Support</td>\n",
       "      <td>12:00 PM</td>\n",
       "      <td>Incoming</td>\n",
       "      <td>B</td>\n",
       "      <td>Brent</td>\n",
       "      <td>NO</td>\n",
       "      <td>0</td>\n",
       "      <td>0</td>\n",
       "      <td>8</td>\n",
       "      <td>2</td>\n",
       "      <td>1.0</td>\n",
       "      <td>4</td>\n",
       "      <td>1</td>\n",
       "    </tr>\n",
       "  </tbody>\n",
       "</table>\n",
       "</div>"
      ],
      "text/plain": [
       "   Unnamed: 0 Branch     Call Purpose Time Block Incoming or Outgoing Queue  \\\n",
       "0           0  North        Complaint    9:00 AM             Incoming     B   \n",
       "1           1  North    Sales Support   11:00 AM             Incoming     A   \n",
       "2           2  North    Sales Support   11:00 AM             Incoming     B   \n",
       "3           3  North    Sales Support    4:00 PM             Incoming     B   \n",
       "4           4  North  Product Support   12:00 PM             Incoming     B   \n",
       "\n",
       "  Rep ID Sale  Lost Call  Abandoned  Busy Minutes  Not Ready Minutes  \\\n",
       "0  Brent   NO          0          1             9                  2   \n",
       "1    Cam   NO          0          0            11                  1   \n",
       "2   Todd   NO          0          0             9                  3   \n",
       "3  Brent   NO          0          0            11                  2   \n",
       "4  Brent   NO          0          0             8                  2   \n",
       "\n",
       "   Incoming Wait Time  During Call Wait Time  Calls  \n",
       "0                 1.0                      4      1  \n",
       "1                 1.0                      3      1  \n",
       "2                 1.0                      3      1  \n",
       "3                 1.0                      4      1  \n",
       "4                 1.0                      4      1  "
      ]
     },
     "execution_count": 3,
     "metadata": {},
     "output_type": "execute_result"
    }
   ],
   "source": [
    "# Import the appropriate libraries with aliases\n",
    "import pandas as pd\n",
    "import matplotlib as plt\n",
    "import numpy as np\n",
    "# Create two new dataframes\n",
    "north = pd.read_csv('NorthCallCenter.csv')\n",
    "south = pd.read_csv('SouthCallCenter.csv')\n",
    "north_df = pd.DataFrame(north)\n",
    "south_df = pd.DataFrame(south)\n",
    "\n",
    "print('The columns are:')\n",
    "north_df.head()\n"
   ]
  },
  {
   "cell_type": "markdown",
   "id": "b4d3484b",
   "metadata": {},
   "source": [
    "## Task 1: Exploratory Data Analysis\n",
    "\n",
    "Time to do some EDA! In the process of learning more about the two datasets, answer the following questions. Use the code blocks below to begin cleaning your data. At the end of the section, record your answers."
   ]
  },
  {
   "cell_type": "markdown",
   "id": "76898991",
   "metadata": {},
   "source": [
    "#### EDA Question 1A:  How many reps are in the North branch?  "
   ]
  },
  {
   "cell_type": "code",
   "execution_count": 6,
   "id": "ce3eb5e4",
   "metadata": {},
   "outputs": [
    {
     "data": {
      "text/plain": [
       "9"
      ]
     },
     "execution_count": 6,
     "metadata": {},
     "output_type": "execute_result"
    }
   ],
   "source": [
    "# EDA Question 1A solution below:\n",
    "north_df['Rep ID'].nunique()\n",
    "\n",
    "# 9"
   ]
  },
  {
   "cell_type": "markdown",
   "id": "2a9b34d8",
   "metadata": {},
   "source": [
    "#### EDA Question 1B:  How many reps are in the South branch?  "
   ]
  },
  {
   "cell_type": "code",
   "execution_count": 7,
   "id": "3c715bbf",
   "metadata": {},
   "outputs": [
    {
     "data": {
      "text/plain": [
       "11"
      ]
     },
     "execution_count": 7,
     "metadata": {},
     "output_type": "execute_result"
    }
   ],
   "source": [
    "# EDA Question 1B solution Below:\n",
    "south_df['Rep ID'].nunique()\n",
    "\n",
    "# 11"
   ]
  },
  {
   "cell_type": "markdown",
   "id": "a872f045",
   "metadata": {},
   "source": [
    "#### EDA Question 2A:  What is the average busy minutes, not ready minutes, incoming wait time, and during call wait time for the North branch? "
   ]
  },
  {
   "cell_type": "code",
   "execution_count": 15,
   "id": "3759305f",
   "metadata": {},
   "outputs": [
    {
     "data": {
      "text/plain": [
       "np.float64(2.9673469387755103)"
      ]
     },
     "execution_count": 15,
     "metadata": {},
     "output_type": "execute_result"
    }
   ],
   "source": [
    "# EDA Question 2A solution Below:\n",
    "north_df['Busy Minutes'].mean() # 9.99\n",
    "north_df['Not Ready Minutes'].mean() # 1.91\n",
    "north_df['Incoming Wait Time'].mean() # 3.05\n",
    "north_df['During Call Wait Time'].mean() # 2.97"
   ]
  },
  {
   "cell_type": "markdown",
   "id": "3851cf3e",
   "metadata": {},
   "source": [
    "#### EDA Question 2B:  What is the average busy minutes, not ready minutes, incoming wait time, and during call wait time for the South branch? "
   ]
  },
  {
   "cell_type": "code",
   "execution_count": 22,
   "id": "a77ec152",
   "metadata": {},
   "outputs": [
    {
     "data": {
      "text/plain": [
       "np.float64(3.0764331210191083)"
      ]
     },
     "execution_count": 22,
     "metadata": {},
     "output_type": "execute_result"
    }
   ],
   "source": [
    "# EDA Question 2B solution Below:\n",
    "south_df['Busy Minutes'].mean() # 10.05\n",
    "south_df['Not Ready Minutes'].mean() # 1.91\n",
    "south_df['Incoming Wait Time'].mean() # 3\n",
    "south_df['During Call Wait Time'].mean() # 3.08\n"
   ]
  },
  {
   "cell_type": "markdown",
   "id": "75915553",
   "metadata": {},
   "source": [
    "#### EDA Question 3:  What is the number of calls taken for each time block(Both North and South combined)?"
   ]
  },
  {
   "cell_type": "code",
   "execution_count": 30,
   "id": "49566936",
   "metadata": {},
   "outputs": [
    {
     "name": "stdout",
     "output_type": "stream",
     "text": [
      "Time Block\n",
      "10:00 AM     99\n",
      "11:00 AM     56\n",
      "12:00 PM    120\n",
      "1:00 PM      40\n",
      "2:00 PM      65\n",
      "3:00 PM      73\n",
      "4:00 PM      53\n",
      "5:00 PM      43\n",
      "9:00 AM      10\n",
      "Name: Calls, dtype: int64\n"
     ]
    }
   ],
   "source": [
    "# EDA Question 3 solution Below:\n",
    "north_time_block_calls = north_df.groupby('Time Block')['Calls'].sum()\n",
    "south_time_block_calls = south_df.groupby('Time Block')['Calls'].sum()\n",
    "result = north_time_block_calls.add(south_time_block_calls)\n",
    "print(result)\n",
    "\n",
    "# Time Block\n",
    "# 10:00 AM     99\n",
    "# 11:00 AM     56\n",
    "# 12:00 PM    120\n",
    "# 1:00 PM      40\n",
    "# 2:00 PM      65\n",
    "# 3:00 PM      73\n",
    "# 4:00 PM      53\n",
    "# 5:00 PM      43\n",
    "# 9:00 AM      10"
   ]
  },
  {
   "cell_type": "markdown",
   "id": "40b1fd3f",
   "metadata": {},
   "source": [
    "##### Record your answers for the EDA section below:\n",
    "- 1a) Reps in the North Branch = 9\n",
    "- 1b) Reps in the South Branch = 11\n",
    "\n",
    "\n",
    "- 2a) North Branch, (round to the nearest hundredth):\n",
    "> - Busy Minutes = 9.99\n",
    "> - Not Ready Minutes = 1.91\n",
    "> - Incoming Wait Time = 3.05\n",
    "> - During Call Wait Time = 2.97\n",
    "- 2b) South Branch, (round to the nearest hundredth):\n",
    "> - Busy Minutes = 10.05\n",
    "> - Not Ready Minutes = 1.91\n",
    "> - Incoming Wait Time = 3\n",
    "> - During Call Wait Time = 3.08\n",
    "- 3) Total Calls taken for all branches per time block:\n",
    "> - 9:00AM   = 10\n",
    "> - 10:00AM  = 99\n",
    "> - 11:00AM  = 56\n",
    "> - 12:00PM  = 120\n",
    "> - 1:00PM   = 40\n",
    "> - 2:00PM   = 65\n",
    "> - 3:00PM   = 73\n",
    "> - 4:00PM   = 53\n",
    "> - 5:00PM   = 43\n",
    "\n"
   ]
  },
  {
   "cell_type": "markdown",
   "id": "366bfb19",
   "metadata": {},
   "source": [
    "## Task 2: Cleaning Your Data \n",
    "Now you need to clean up the datasets. When cleaning the datasets, you may find that there isn't dirty data to clean. That is okay! Some questions you need to answer about the data sets.\n",
    "* Add additional code blocks as needed to show how you came to your conclusions. Add comments in your code blocks to help others understand your thinking. "
   ]
  },
  {
   "cell_type": "markdown",
   "id": "c3564d69",
   "metadata": {},
   "source": [
    "#### Cleaning Question 1:  Is there any missing data and if yes explain what you would do with the missing data and why?"
   ]
  },
  {
   "cell_type": "code",
   "execution_count": 4,
   "id": "b77fb574",
   "metadata": {},
   "outputs": [
    {
     "name": "stdout",
     "output_type": "stream",
     "text": [
      "Unnamed: 0               0\n",
      "Branch                   0\n",
      "Call Purpose             0\n",
      "Time Block               0\n",
      "Incoming or Outgoing     0\n",
      "Queue                    0\n",
      "Rep ID                   0\n",
      "Sale                     0\n",
      "Lost Call                0\n",
      "Abandoned                0\n",
      "Busy Minutes             0\n",
      "Not Ready Minutes        0\n",
      "Incoming Wait Time       0\n",
      "During Call Wait Time    0\n",
      "Calls                    0\n",
      "dtype: int64\n",
      "Unnamed: 0               0\n",
      "Branch                   0\n",
      "Call Purpose             0\n",
      "Time Block               0\n",
      "Incoming or Outgoing     0\n",
      "Queue                    0\n",
      "Rep ID                   0\n",
      "Sale                     0\n",
      "Lost Call                0\n",
      "Abandoned                0\n",
      "Busy Minutes             0\n",
      "Not Ready Minutes        0\n",
      "Incoming Wait Time       0\n",
      "During Call Wait Time    0\n",
      "Calls                    0\n",
      "dtype: int64\n"
     ]
    }
   ],
   "source": [
    "# Question 1 solution below\n",
    "\n",
    "# print(south_df.isnull().sum())\n",
    "# i checked the df for null values and found them in the incoming wait time coulmn\n",
    "\n",
    "# print(south_df[south_df['Incoming Wait Time'] == 0])\n",
    "# I checked to see if the null values represented 0, since there are no rows with 0 in the incoming wait time columns i think its a safe assumption.\n",
    "\n",
    "south_df = south_df.fillna(0)\n",
    "# filling the nulls with 0\n",
    "\n",
    "print(south_df.isnull().sum())\n",
    "# checked if it worked\n",
    "\n",
    "north_df = north_df.fillna(0)\n",
    "print(north_df.isnull().sum())\n",
    "# did the same to the other dataframe.\n",
    "\n",
    "\n"
   ]
  },
  {
   "cell_type": "markdown",
   "id": "0dc5c568-40db-4889-b82b-64610d8058d2",
   "metadata": {},
   "source": [
    "#### Record your answer below:\n",
    "\n",
    "> Your Answer: It looks like the only null data is in the incoming wait time. I think its a safe assumtion that this means the customer did not have to wait when calling in. I'll change this from a null value to 0."
   ]
  },
  {
   "cell_type": "markdown",
   "id": "dc47f020",
   "metadata": {},
   "source": [
    "#### Cleaning Question 2:  In the North data set, there are two separate \"YES\" values for a sale. Why and how did you rectify the issue?"
   ]
  },
  {
   "cell_type": "code",
   "execution_count": 5,
   "id": "4e0fbad6",
   "metadata": {},
   "outputs": [
    {
     "name": "stdout",
     "output_type": "stream",
     "text": [
      "Empty DataFrame\n",
      "Columns: [Unnamed: 0, Branch, Call Purpose, Time Block, Incoming or Outgoing, Queue, Rep ID, Sale, Lost Call, Abandoned, Busy Minutes, Not Ready Minutes, Incoming Wait Time, During Call Wait Time, Calls]\n",
      "Index: []\n"
     ]
    }
   ],
   "source": [
    "# Cleaning Question 2 solution below:\n",
    "\n",
    "# results = (north_df[(north_df['Sale'] != 'YES') & (north_df['Sale'] != 'NO')])\n",
    "# here i think i found the problem row\n",
    "\n",
    "north_df.loc[19, 'Sale'] = 'YES'\n",
    "# Here i changed the value in the sale column to match the rest of the dataset\n",
    "\n",
    "results = (north_df[(north_df['Sale'] != 'YES') & (north_df['Sale'] != 'NO')])\n",
    "print(results)\n",
    "# Ran the same code again to check that the row had been changed.\n"
   ]
  },
  {
   "cell_type": "markdown",
   "id": "cf81b612-eb6b-45a6-ac8e-d6f4e08131a8",
   "metadata": {},
   "source": [
    "##### Record your answer by below:\n",
    "> Your Answer: "
   ]
  },
  {
   "cell_type": "markdown",
   "id": "715f375a",
   "metadata": {},
   "source": [
    "#### Cleaning Question 3:  Are there duplicates in the two data sets? If there are, how did you handle them?"
   ]
  },
  {
   "cell_type": "code",
   "execution_count": 8,
   "id": "2323673a",
   "metadata": {},
   "outputs": [
    {
     "name": "stdout",
     "output_type": "stream",
     "text": [
      "Empty DataFrame\n",
      "Columns: [Unnamed: 0, Branch, Call Purpose, Time Block, Incoming or Outgoing, Queue, Rep ID, Sale, Lost Call, Abandoned, Busy Minutes, Not Ready Minutes, Incoming Wait Time, During Call Wait Time, Calls]\n",
      "Index: []\n"
     ]
    }
   ],
   "source": [
    "# Cleaning Question 3 solution below:\n",
    "\n",
    "# north_dups = north_df[north_df.duplicated()]\n",
    "# south_dups = south_df[south_df.duplicated()]\n",
    "\n",
    "#found no duplicates in the individual datasets\n",
    "\n",
    "# company_wide = pd.concat([north_df,south_df])\n",
    "# company_wide_dups = company_wide[company_wide.duplicated()]\n",
    "\n",
    "# I did not find any duplicates\n"
   ]
  },
  {
   "cell_type": "markdown",
   "id": "4fbfe2e8-490a-48dc-b0ca-599879076c62",
   "metadata": {},
   "source": [
    "##### Record your answer below:\n",
    "> Your Answer: I failed to find any duplicates within the individual datasets or between the two datasets as a combined."
   ]
  },
  {
   "cell_type": "markdown",
   "id": "8ffaa865",
   "metadata": {},
   "source": [
    "#### Cleaning Question 4:  Is any of the data in the two data sets unnecessary? If yes, how did you handle it?"
   ]
  },
  {
   "cell_type": "code",
   "execution_count": 28,
   "id": "78b45e70",
   "metadata": {},
   "outputs": [
    {
     "data": {
      "text/html": [
       "<div>\n",
       "<style scoped>\n",
       "    .dataframe tbody tr th:only-of-type {\n",
       "        vertical-align: middle;\n",
       "    }\n",
       "\n",
       "    .dataframe tbody tr th {\n",
       "        vertical-align: top;\n",
       "    }\n",
       "\n",
       "    .dataframe thead th {\n",
       "        text-align: right;\n",
       "    }\n",
       "</style>\n",
       "<table border=\"1\" class=\"dataframe\">\n",
       "  <thead>\n",
       "    <tr style=\"text-align: right;\">\n",
       "      <th></th>\n",
       "      <th>Branch</th>\n",
       "      <th>Call Purpose</th>\n",
       "      <th>Time Block</th>\n",
       "      <th>Incoming or Outgoing</th>\n",
       "      <th>Queue</th>\n",
       "      <th>Rep ID</th>\n",
       "      <th>Sale</th>\n",
       "      <th>Lost Call</th>\n",
       "      <th>Abandoned</th>\n",
       "      <th>Busy Minutes</th>\n",
       "      <th>Not Ready Minutes</th>\n",
       "      <th>Incoming Wait Time</th>\n",
       "      <th>During Call Wait Time</th>\n",
       "      <th>Calls</th>\n",
       "    </tr>\n",
       "  </thead>\n",
       "  <tbody>\n",
       "    <tr>\n",
       "      <th>0</th>\n",
       "      <td>South</td>\n",
       "      <td>Sales Support</td>\n",
       "      <td>10:00 AM</td>\n",
       "      <td>Incoming</td>\n",
       "      <td>D</td>\n",
       "      <td>Kate</td>\n",
       "      <td>NO</td>\n",
       "      <td>0</td>\n",
       "      <td>0</td>\n",
       "      <td>9</td>\n",
       "      <td>1</td>\n",
       "      <td>1.0</td>\n",
       "      <td>2</td>\n",
       "      <td>1</td>\n",
       "    </tr>\n",
       "    <tr>\n",
       "      <th>1</th>\n",
       "      <td>South</td>\n",
       "      <td>Sales Support</td>\n",
       "      <td>10:00 AM</td>\n",
       "      <td>Incoming</td>\n",
       "      <td>C</td>\n",
       "      <td>Eric</td>\n",
       "      <td>NO</td>\n",
       "      <td>0</td>\n",
       "      <td>0</td>\n",
       "      <td>8</td>\n",
       "      <td>2</td>\n",
       "      <td>1.0</td>\n",
       "      <td>4</td>\n",
       "      <td>1</td>\n",
       "    </tr>\n",
       "    <tr>\n",
       "      <th>2</th>\n",
       "      <td>South</td>\n",
       "      <td>Sales Support</td>\n",
       "      <td>10:00 AM</td>\n",
       "      <td>Incoming</td>\n",
       "      <td>C</td>\n",
       "      <td>Susan</td>\n",
       "      <td>NO</td>\n",
       "      <td>0</td>\n",
       "      <td>0</td>\n",
       "      <td>10</td>\n",
       "      <td>2</td>\n",
       "      <td>1.0</td>\n",
       "      <td>4</td>\n",
       "      <td>1</td>\n",
       "    </tr>\n",
       "    <tr>\n",
       "      <th>3</th>\n",
       "      <td>South</td>\n",
       "      <td>Sales Support</td>\n",
       "      <td>10:00 AM</td>\n",
       "      <td>Incoming</td>\n",
       "      <td>C</td>\n",
       "      <td>Alice</td>\n",
       "      <td>NO</td>\n",
       "      <td>0</td>\n",
       "      <td>0</td>\n",
       "      <td>12</td>\n",
       "      <td>1</td>\n",
       "      <td>1.0</td>\n",
       "      <td>3</td>\n",
       "      <td>1</td>\n",
       "    </tr>\n",
       "    <tr>\n",
       "      <th>4</th>\n",
       "      <td>South</td>\n",
       "      <td>Sales Support</td>\n",
       "      <td>12:00 PM</td>\n",
       "      <td>Incoming</td>\n",
       "      <td>C</td>\n",
       "      <td>Sandy</td>\n",
       "      <td>NO</td>\n",
       "      <td>0</td>\n",
       "      <td>0</td>\n",
       "      <td>8</td>\n",
       "      <td>3</td>\n",
       "      <td>1.0</td>\n",
       "      <td>3</td>\n",
       "      <td>1</td>\n",
       "    </tr>\n",
       "  </tbody>\n",
       "</table>\n",
       "</div>"
      ],
      "text/plain": [
       "  Branch   Call Purpose Time Block Incoming or Outgoing Queue Rep ID Sale  \\\n",
       "0  South  Sales Support   10:00 AM             Incoming     D   Kate   NO   \n",
       "1  South  Sales Support   10:00 AM             Incoming     C   Eric   NO   \n",
       "2  South  Sales Support   10:00 AM             Incoming     C  Susan   NO   \n",
       "3  South  Sales Support   10:00 AM             Incoming     C  Alice   NO   \n",
       "4  South  Sales Support   12:00 PM             Incoming     C  Sandy   NO   \n",
       "\n",
       "   Lost Call  Abandoned  Busy Minutes  Not Ready Minutes  Incoming Wait Time  \\\n",
       "0          0          0             9                  1                 1.0   \n",
       "1          0          0             8                  2                 1.0   \n",
       "2          0          0            10                  2                 1.0   \n",
       "3          0          0            12                  1                 1.0   \n",
       "4          0          0             8                  3                 1.0   \n",
       "\n",
       "   During Call Wait Time  Calls  \n",
       "0                      2      1  \n",
       "1                      4      1  \n",
       "2                      4      1  \n",
       "3                      3      1  \n",
       "4                      3      1  "
      ]
     },
     "execution_count": 28,
     "metadata": {},
     "output_type": "execute_result"
    }
   ],
   "source": [
    "# Cleaning Question 4 solution below:\n",
    "# north = north_df.columns\n",
    "# south = south_df.columns\n",
    "\n",
    "# print(north)\n",
    "# print(south)\n",
    "# I checked the columns as i though i saw one that was a duplicate of the index\n",
    "\n",
    "# north_df = north_df.drop(columns=['Unnamed: 0'])\n",
    "# south_df = south_df.drop(columns=['Unnamed: 0'])\n",
    "# drop it like its hot\n",
    "# north_df.head()\n",
    "# south_df.head()\n",
    "# double checked the drop was successful"
   ]
  },
  {
   "cell_type": "markdown",
   "id": "689e76b9-64d2-45d7-883a-b8c4d822e0c8",
   "metadata": {},
   "source": [
    "##### Record your answer below:\n",
    "> Your Answer: The unnamed 0 column seemed unnecessary so i deleted it from both datasets."
   ]
  },
  {
   "cell_type": "markdown",
   "id": "73342a9a",
   "metadata": {},
   "source": [
    "## Task 3: Data Manipulation\n",
    "Before you begin answering any questions, combine the two datasets together to create a third dataframe called df. You can use this third dataframe to compare the two call centers to company-wide trends.\n",
    "* Add additional code blocks as needed to show how you came to your conclusions. Add comments in your code blocks to help others understand your thinking. Record your answer below."
   ]
  },
  {
   "cell_type": "code",
   "execution_count": 25,
   "id": "e9705c34",
   "metadata": {},
   "outputs": [
    {
     "name": "stdout",
     "output_type": "stream",
     "text": [
      "     Unnamed: 0 Branch     Call Purpose Time Block Incoming or Outgoing Queue  \\\n",
      "0             0  North        Complaint    9:00 AM             Incoming     B   \n",
      "1             1  North    Sales Support   11:00 AM             Incoming     A   \n",
      "2             2  North    Sales Support   11:00 AM             Incoming     B   \n",
      "3             3  North    Sales Support    4:00 PM             Incoming     B   \n",
      "4             4  North  Product Support   12:00 PM             Incoming     B   \n",
      "..          ...    ...              ...        ...                  ...   ...   \n",
      "309         309  South  Product Support    5:00 PM             Outgoing     D   \n",
      "310         310  South  Product Support    5:00 PM             Outgoing     C   \n",
      "311         311  South  Product Support    5:00 PM             Outgoing     C   \n",
      "312         312  South  Product Support    5:00 PM             Outgoing     C   \n",
      "313         313  South  Product Support    5:00 PM             Outgoing     D   \n",
      "\n",
      "     Rep ID Sale  Lost Call  Abandoned  Busy Minutes  Not Ready Minutes  \\\n",
      "0     Brent   NO          0          1             9                  2   \n",
      "1       Cam   NO          0          0            11                  1   \n",
      "2      Todd   NO          0          0             9                  3   \n",
      "3     Brent   NO          0          0            11                  2   \n",
      "4     Brent   NO          0          0             8                  2   \n",
      "..      ...  ...        ...        ...           ...                ...   \n",
      "309   Helga   NO          0          0            10                  3   \n",
      "310   Susan   NO          0          0            12                  3   \n",
      "311   Sandy   NO          0          0             9                  3   \n",
      "312    Eric   NO          0          0            10                  1   \n",
      "313  George   NO          0          0            10                  2   \n",
      "\n",
      "     Incoming Wait Time  During Call Wait Time  Calls  \n",
      "0                   1.0                      4      1  \n",
      "1                   1.0                      3      1  \n",
      "2                   1.0                      3      1  \n",
      "3                   1.0                      4      1  \n",
      "4                   1.0                      4      1  \n",
      "..                  ...                    ...    ...  \n",
      "309                 0.0                      4      1  \n",
      "310                 0.0                      4      1  \n",
      "311                 0.0                      4      1  \n",
      "312                 0.0                      2      1  \n",
      "313                 0.0                      3      1  \n",
      "\n",
      "[559 rows x 15 columns]\n"
     ]
    }
   ],
   "source": [
    "# Create dataframe for the entire company named df\n",
    "df = pd.concat([north_df,south_df])\n",
    "print(df)"
   ]
  },
  {
   "cell_type": "markdown",
   "id": "7e87dfd1",
   "metadata": {},
   "source": [
    "#### Manipulation Question 1:  Group by Rep ID and sum the resulting structure. Sort by calls to determine which rep in each branch has the highest number of calls."
   ]
  },
  {
   "cell_type": "code",
   "execution_count": 46,
   "id": "3953f09a",
   "metadata": {},
   "outputs": [
    {
     "name": "stdout",
     "output_type": "stream",
     "text": [
      "        Calls                                                                                                                                                                                     Branch\n",
      "Rep ID                                                                                                                                                                                                  \n",
      "Brent      37  NorthNorthNorthNorthNorthNorthNorthNorthNorthNorthNorthNorthNorthNorthNorthNorthNorthNorthNorthNorthNorthNorthNorthNorthNorthNorthNorthNorthNorthNorthNorthNorthNorthNorthNorthNorthNorth\n",
      "Eric       35            SouthSouthSouthSouthSouthSouthSouthSouthSouthSouthSouthSouthSouthSouthSouthSouthSouthSouthSouthSouthSouthSouthSouthSouthSouthSouthSouthSouthSouthSouthSouthSouthSouthSouthSouth\n",
      "Randy      33                      SouthSouthSouthSouthSouthSouthSouthSouthSouthSouthSouthSouthSouthSouthSouthSouthSouthSouthSouthSouthSouthSouthSouthSouthSouthSouthSouthSouthSouthSouthSouthSouthSouth\n",
      "Sandy      32                           SouthSouthSouthSouthSouthSouthSouthSouthSouthSouthSouthSouthSouthSouthSouthSouthSouthSouthSouthSouthSouthSouthSouthSouthSouthSouthSouthSouthSouthSouthSouthSouth\n",
      "Helga      31                                SouthSouthSouthSouthSouthSouthSouthSouthSouthSouthSouthSouthSouthSouthSouthSouthSouthSouthSouthSouthSouthSouthSouthSouthSouthSouthSouthSouthSouthSouthSouth\n",
      "Lilly      30                                     NorthNorthNorthNorthNorthNorthNorthNorthNorthNorthNorthNorthNorthNorthNorthNorthNorthNorthNorthNorthNorthNorthNorthNorthNorthNorthNorthNorthNorthNorth\n",
      "George     29                                          SouthSouthSouthSouthSouthSouthSouthSouthSouthSouthSouthSouthSouthSouthSouthSouthSouthSouthSouthSouthSouthSouthSouthSouthSouthSouthSouthSouthSouth\n",
      "Kate       29                                          SouthSouthSouthSouthSouthSouthSouthSouthSouthSouthSouthSouthSouthSouthSouthSouthSouthSouthSouthSouthSouthSouthSouthSouthSouthSouthSouthSouthSouth\n",
      "Todd       29                                          NorthNorthNorthNorthNorthNorthNorthNorthNorthNorthNorthNorthNorthNorthNorthNorthNorthNorthNorthNorthNorthNorthNorthNorthNorthNorthNorthNorthNorth\n",
      "Duke       29                                          NorthNorthNorthNorthNorthNorthNorthNorthNorthNorthNorthNorthNorthNorthNorthNorthNorthNorthNorthNorthNorthNorthNorthNorthNorthNorthNorthNorthNorth\n",
      "Karl       28                                               SouthSouthSouthSouthSouthSouthSouthSouthSouthSouthSouthSouthSouthSouthSouthSouthSouthSouthSouthSouthSouthSouthSouthSouthSouthSouthSouthSouth\n",
      "Joe        26                                                         NorthNorthNorthNorthNorthNorthNorthNorthNorthNorthNorthNorthNorthNorthNorthNorthNorthNorthNorthNorthNorthNorthNorthNorthNorthNorth\n",
      "Susan      26                                                         SouthSouthSouthSouthSouthSouthSouthSouthSouthSouthSouthSouthSouthSouthSouthSouthSouthSouthSouthSouthSouthSouthSouthSouthSouthSouth\n",
      "Josh       26                                                         SouthSouthSouthSouthSouthSouthSouthSouthSouthSouthSouthSouthSouthSouthSouthSouthSouthSouthSouthSouthSouthSouthSouthSouthSouthSouth\n",
      "Sharon     25                                                              SouthSouthSouthSouthSouthSouthSouthSouthSouthSouthSouthSouthSouthSouthSouthSouthSouthSouthSouthSouthSouthSouthSouthSouthSouth\n",
      "Cam        24                                                                   NorthNorthNorthNorthNorthNorthNorthNorthNorthNorthNorthNorthNorthNorthNorthNorthNorthNorthNorthNorthNorthNorthNorthNorth\n",
      "Xander     24                                                                   NorthNorthNorthNorthNorthNorthNorthNorthNorthNorthNorthNorthNorthNorthNorthNorthNorthNorthNorthNorthNorthNorthNorthNorth\n",
      "Amanda     23                                                                        NorthNorthNorthNorthNorthNorthNorthNorthNorthNorthNorthNorthNorthNorthNorthNorthNorthNorthNorthNorthNorthNorthNorth\n",
      "Andy       23                                                                        NorthNorthNorthNorthNorthNorthNorthNorthNorthNorthNorthNorthNorthNorthNorthNorthNorthNorthNorthNorthNorthNorthNorth\n",
      "Alice      20                                                                                       SouthSouthSouthSouthSouthSouthSouthSouthSouthSouthSouthSouthSouthSouthSouthSouthSouthSouthSouthSouth\n"
     ]
    }
   ],
   "source": [
    "# Manipulation Question solution below:\n",
    "rep_id_group = df.groupby('Rep ID').sum()\n",
    "result= rep_id_group.sort_values(by='Calls', ascending=False)[['Calls','Branch']]\n",
    "print(result.to_string())\n",
    "\n"
   ]
  },
  {
   "cell_type": "markdown",
   "id": "7c29838c-1402-4e4b-94c9-050515d8dd18",
   "metadata": {},
   "source": [
    "##### Record your answer below\n",
    "Rep with the hightest number of calls and their total calls:\n",
    "- North Branch = Brent 37\n",
    "- South Branch = Eric 35"
   ]
  },
  {
   "cell_type": "markdown",
   "id": "809293b9",
   "metadata": {},
   "source": [
    "#### Manipulation Question 2:  The average call abandonment rate is a KPI when it comes to determining call center efficiency. As you may recall, abandoned calls are calls where the customer hangs up due to long call times. What is the average call abandonment rate for each branch and the whole company? Do any of these fall out of the optimal range of 2-5%?"
   ]
  },
  {
   "cell_type": "code",
   "execution_count": 61,
   "id": "3dff7534",
   "metadata": {},
   "outputs": [
    {
     "name": "stdout",
     "output_type": "stream",
     "text": [
      "The average abandoned call for the north branch is: 2.857142857142857\n",
      "The average abandoned call for the south branch is: 1.2738853503184715\n",
      "The average abandoned call for the whole company is: 1.9677996422182469\n"
     ]
    }
   ],
   "source": [
    "# Manipulation Question 2 solution below:\n",
    "north_total_abandon = north_df['Abandoned'].sum()\n",
    "north_total_calls = north_df['Calls'].sum()\n",
    "north_avg_abandon = (north_total_abandon / north_total_calls * 100)\n",
    "print('The average abandoned call for the north branch is:',north_avg_abandon)\n",
    "# I used the sum of the abandoned columns and divided it by the sum of the total calls and multiplied that by 100\n",
    "south_total_abandon = south_df['Abandoned'].sum()\n",
    "south_total_calls = south_df['Calls'].sum()\n",
    "south_avg_abandon = (south_total_abandon / south_total_calls * 100)\n",
    "print('The average abandoned call for the south branch is:',south_avg_abandon)\n",
    "# same again for south branch\n",
    "company_total_abandon = df['Abandoned'].sum()\n",
    "company_total_calls = df['Calls'].sum()\n",
    "company_avg_abandon = (company_total_abandon / company_total_calls * 100)\n",
    "print('The average abandoned call for the whole company is:',company_avg_abandon)"
   ]
  },
  {
   "cell_type": "markdown",
   "id": "c284596f-218f-4291-81b6-718ea5671feb",
   "metadata": {},
   "source": [
    "##### Record your answer below:\n",
    "Average Call Abandonment Rates (round to the nearest hundredth):\n",
    "- North Branch = 2.86\n",
    "- South Branch = 1.27\n",
    "- Company Wide = 1.97\n",
    "- Do any of these fall out of the optimal range of 2-5%? No."
   ]
  },
  {
   "cell_type": "markdown",
   "id": "598bb1bf",
   "metadata": {},
   "source": [
    "#### Manipulation Question 3:  Service level is another KPI when it comes to measuring call center efficiency. Service level is the percentage of calls answered within a specific number of seconds. In the case of your employer, their ideal time frame is 2 seconds. What is the percentage of calls answered within 2 seconds for each branch and the entire company?"
   ]
  },
  {
   "cell_type": "code",
   "execution_count": 90,
   "id": "2fc8f669",
   "metadata": {},
   "outputs": [
    {
     "name": "stdout",
     "output_type": "stream",
     "text": [
      "North branch calls under 2 seconds: 33\n",
      "Percentage of calls under 2 seconds: 40.243902439024396\n"
     ]
    }
   ],
   "source": [
    "# Manipulation Question 3 solution below:\n",
    "incoming_under_2 = north_df[(north_df['Incoming Wait Time'] <= 2) & (north_df['Incoming Wait Time'] > 0)]\n",
    "count_under_2 = incoming_under_2['Incoming Wait Time'].count()\n",
    "print('North branch calls under 2 seconds:', count_under_2)\n",
    "# counting all the calls above 0 wait time and equal to or under 2.\n",
    "north_over_0 = north_df[north_df['Incoming Wait Time'] > 0]\n",
    "north_total_over_0 = north_over_0['Incoming Wait Time'].count()\n",
    "# counting allt he calls above 0 wait time.\n",
    "north_avg_wait = (count_under_2 / north_total_over_0 * 100)\n",
    "# calculating percentage.\n",
    "print('Percentage of calls under 2 seconds:', north_avg_wait)\n"
   ]
  },
  {
   "cell_type": "code",
   "execution_count": 91,
   "id": "210a1aed-1ed1-4367-b173-2fd532385530",
   "metadata": {},
   "outputs": [
    {
     "name": "stdout",
     "output_type": "stream",
     "text": [
      "South branch calls under 2 seconds: 48\n",
      "Percentage of calls under 2 seconds: 38.095238095238095\n"
     ]
    }
   ],
   "source": [
    "# Manipulation Question 3 solution below:\n",
    "incoming_under_2 = south_df[(south_df['Incoming Wait Time'] <= 2) & (south_df['Incoming Wait Time'] > 0)]\n",
    "count_under_2 = incoming_under_2['Incoming Wait Time'].count()\n",
    "print('South branch calls under 2 seconds:', count_under_2)\n",
    "# counting all the calls above 0 wait time and equal to or under 2.\n",
    "south_over_0 = south_df[south_df['Incoming Wait Time'] > 0]\n",
    "south_total_over_0 = south_over_0['Incoming Wait Time'].count()\n",
    "# counting allt he calls above 0 wait time.\n",
    "south_avg_wait = (count_under_2 / south_total_over_0 * 100)\n",
    "# calculating percentage.\n",
    "print('Percentage of calls under 2 seconds:', south_avg_wait)\n"
   ]
  },
  {
   "cell_type": "code",
   "execution_count": 92,
   "id": "c0dce8f0-8311-4fea-b730-2794bb121d21",
   "metadata": {},
   "outputs": [
    {
     "name": "stdout",
     "output_type": "stream",
     "text": [
      "Company wide calls under 2 seconds: 81\n",
      "Percentage of calls under 2 seconds: 38.94230769230769\n"
     ]
    }
   ],
   "source": [
    "# Manipulation Question 3 solution below:\n",
    "incoming_under_2 = df[(df['Incoming Wait Time'] <= 2) & (df['Incoming Wait Time'] > 0)]\n",
    "count_under_2 = incoming_under_2['Incoming Wait Time'].count()\n",
    "print('Company wide calls under 2 seconds:', count_under_2)\n",
    "# counting all the calls above 0 wait time and equal to or under 2.\n",
    "company_over_0 = df[df['Incoming Wait Time'] > 0]\n",
    "company_total_over_0 = company_over_0['Incoming Wait Time'].count()\n",
    "# counting allt he calls above 0 wait time.\n",
    "company_avg_wait = (count_under_2 / company_total_over_0 * 100)\n",
    "# calculating percentage.\n",
    "print('Percentage of calls under 2 seconds:', company_avg_wait)\n"
   ]
  },
  {
   "cell_type": "markdown",
   "id": "e3a4c9d9-4e11-4e1f-859a-d2c919f7d9ce",
   "metadata": {},
   "source": [
    "##### Record your answer below:\n",
    "Percentage of calls answered within 2 seconds, include # of calls:\n",
    "- North Branch = 40.24% 33 Calls \n",
    "- South Branch = 38.10% 48 Calls\n",
    "- Company Wide = 38.94% 81 Calls"
   ]
  },
  {
   "cell_type": "markdown",
   "id": "7e19e705",
   "metadata": {},
   "source": [
    "#### Manipulation Question 4: For each branch and the entire company, what is the average speed of answer?"
   ]
  },
  {
   "cell_type": "code",
   "execution_count": 98,
   "id": "72a653ed",
   "metadata": {},
   "outputs": [
    {
     "name": "stdout",
     "output_type": "stream",
     "text": [
      "The average speed of answer for the North branch is: 3.05 seconds.\n",
      "The average speed of answer for the South branch is: 3.0 seconds.\n",
      "The average speed of answer for the entire company is: 3.02 seconds.\n"
     ]
    }
   ],
   "source": [
    "# Manipulation Question 4 solution below:\n",
    "north_over_0 = north_df[north_df['Incoming Wait Time'] > 0]\n",
    "avg_north_speed = north_over_0['Incoming Wait Time'].mean()\n",
    "print('The average speed of answer for the North branch is:',avg_north_speed.round(2),'seconds.')\n",
    "south_over_0 = south_df[south_df['Incoming Wait Time'] > 0]\n",
    "avg_south_speed = south_over_0['Incoming Wait Time'].mean()\n",
    "print('The average speed of answer for the South branch is:',avg_south_speed.round(2),'seconds.')\n",
    "company_over_0 = df[df['Incoming Wait Time'] > 0]\n",
    "avg_company_speed = company_over_0['Incoming Wait Time'].mean()\n",
    "print('The average speed of answer for the entire company is:',avg_company_speed.round(2),'seconds.')"
   ]
  },
  {
   "cell_type": "markdown",
   "id": "fb04c65b-442b-48e1-b22c-b2af8b835ffd",
   "metadata": {},
   "source": [
    "##### Record your answer by below:\n",
    "Average speed of answer (rounded to nearest hundredth):\n",
    "- North Branch in seconds = 3.05\n",
    "- South Branch in seconds = 3\n",
    "- Company Wide in seconds = 3.02"
   ]
  },
  {
   "cell_type": "markdown",
   "id": "d5f50a40",
   "metadata": {},
   "source": [
    "## Task 4: Visualization\n",
    "\n",
    "Create a visualization for each of the following questions. Some of the code to handle aggregating and storing data may be written for you. For each visualization, you choose the chart style that you feel suits the situation best. Make note of the chart style you chose and why. \n",
    "\n",
    "*NOTE Some questions you may decide to use more than one chart and or chart style."
   ]
  },
  {
   "cell_type": "markdown",
   "id": "66ccf83c",
   "metadata": {},
   "source": [
    "#### Visualization 1:  What is the average abandonment rate per queue?"
   ]
  },
  {
   "cell_type": "code",
   "execution_count": 129,
   "id": "c971d779",
   "metadata": {},
   "outputs": [
    {
     "name": "stderr",
     "output_type": "stream",
     "text": [
      "C:\\Users\\Rees\\AppData\\Local\\Temp\\ipykernel_14660\\925850492.py:11: FutureWarning: Series.__getitem__ treating keys as positions is deprecated. In a future version, integer keys will always be treated as labels (consistent with DataFrame behavior). To access a value by position, use `ser.iloc[pos]`\n",
      "  abandonment_rates[queues[i]] = queue_dict[\"Abandoned\"][i] / queue_dict[\"Calls\"][i]\n"
     ]
    },
    {
     "data": {
      "image/png": "[encoded data removed]",
      "text/plain": [
       "<Figure size 640x480 with 1 Axes>"
      ]
     },
     "metadata": {},
     "output_type": "display_data"
    }
   ],
   "source": [
    "# Create visualization 1 here\n",
    "# Import any additional libraries needed with alias\n",
    "import matplotlib.pyplot as plt\n",
    "import numpy as np\n",
    "\n",
    "#The dictionary abandonment_rates has the data you need.\n",
    "abandonment_rates = {}\n",
    "queues = [\"A\", \"B\", \"C\", \"D\"]\n",
    "queue_dict = df.groupby(\"Queue\").agg(\"sum\")\n",
    "for i in range(4):\n",
    "    abandonment_rates[queues[i]] = queue_dict[\"Abandoned\"][i] / queue_dict[\"Calls\"][i]\n",
    "\n",
    "queues = list(abandonment_rates.keys())  \n",
    "values = list(abandonment_rates.values()) \n",
    "\n",
    "#Your code below:\n",
    "plt.bar(queues, values)\n",
    "plt.title('Abandonment Rate per Queue')\n",
    "plt.xlabel('Queues')\n",
    "plt.ylabel('Rate of Abandoned Calls')\n",
    "plt.show()"
   ]
  },
  {
   "cell_type": "markdown",
   "id": "00a821e7-b296-4950-8889-dacf36ef37fb",
   "metadata": {},
   "source": [
    "##### Record your answer below:\n",
    "\n",
    "> Chart style you chose and why:\n",
    "> I chose a bar chart here, i think it clearly shows each queue and wthe rate of abandonment for each queue at a glance."
   ]
  },
  {
   "cell_type": "markdown",
   "id": "4a9fc77f",
   "metadata": {},
   "source": [
    "#### Visualization 2: What is the service level percentage and average speed of answer for each rep in the North Branch?"
   ]
  },
  {
   "cell_type": "code",
   "execution_count": 35,
   "id": "61f65a7f",
   "metadata": {},
   "outputs": [
    {
     "data": {
      "image/png": "[encoded data removed]",
      "text/plain": [
       "<Figure size 1000x600 with 1 Axes>"
      ]
     },
     "metadata": {},
     "output_type": "display_data"
    }
   ],
   "source": [
    "# Create visualization 2 here\n",
    "# north_plt contains the data you need for the average speed of answer of each rep\n",
    "import matplotlib.pyplot as plt\n",
    "north_plt = north_df.groupby(\"Rep ID\")[\"Incoming Wait Time\"].mean().to_frame().reset_index()\n",
    "\n",
    "# Finding each Rep's Personal Service Level Percentage.  Basically, Calls within 2 secs / total calls\n",
    "\n",
    "# Table 1: Total Incoming calls less than 2 seconds grouped by Rep\n",
    "quick_calls = north[north[\"Incoming Wait Time\"] <= 2.0]\n",
    "quick_reps = quick_calls[[\"Rep ID\", \"Calls\"]]\n",
    "quick_stats = quick_reps.groupby([\"Rep ID\"]).sum()  # Final Table\n",
    "\n",
    "\n",
    "# Table 2: Total Incoming Calls Only grouped by Rep\n",
    "total_calls_in = north[north[\"Incoming or Outgoing\"] == \"Incoming\"]\n",
    "rep_calls = total_calls_in[[\"Rep ID\", \"Calls\"]]     \n",
    "total_stats = rep_calls.groupby([\"Rep ID\"]).sum() # Final Table  \n",
    "\n",
    "#  Table 3: Service Level Percentage created via merge\n",
    "service_level = pd.merge(quick_stats, total_stats, on=\"Rep ID\")\n",
    "\n",
    "# Create Percentage Column in Table 3\n",
    "service_level[\"Service Level %\"] = service_level[\"Calls_x\"]/service_level[\"Calls_y\"] * 100\n",
    "\n",
    "#Your Code Here:\n",
    "\n",
    "fig, ax = plt.subplots(figsize=(10,6))\n",
    "\n",
    "bar_width = .35\n",
    "\n",
    "service_lvl_percent = ax.bar(index,service_data[\"Service Level %\"], bar_width, label='Service Level %', color='b')\n",
    "avg_answer_speed = ax.bar(index + bar_width, service_data[\"Incoming Wait Time\"], bar_width, label='Incoming Wait Time', color='g')\n",
    "\n",
    "ax.set_xlabel('Rep ID')\n",
    "ax.set_ylabel('Values')\n",
    "ax.set_title('Service Level Percentage and Average Speed of Answer for each Rep')\n",
    "ax.set_xticks(index + bar_width / 2)\n",
    "ax.set_xticklabels(service_data[\"Rep ID\"])\n",
    "ax.legend()\n",
    "plt.show()\n",
    "\n",
    "\n"
   ]
  },
  {
   "cell_type": "markdown",
   "id": "4d4cad4d-f9fb-4927-8a45-4b5cd17edd3a",
   "metadata": {},
   "source": [
    "##### Record your answer below:\n",
    "\n",
    "> Chart style you chose and why: I chose a br chart with a column for each KPI, I wasnt sure if this should we two seperate charts but combining it into one seemed easier to visualize for each rep."
   ]
  },
  {
   "cell_type": "markdown",
   "id": "f965e41a",
   "metadata": {},
   "source": [
    "#### Visualization 3: For each type of call purpose, how many calls are outgoing vs. incoming?"
   ]
  },
  {
   "cell_type": "code",
   "execution_count": 61,
   "id": "44096730",
   "metadata": {},
   "outputs": [
    {
     "data": {
      "image/png": "[encoded data removed]",
      "text/plain": [
       "<Figure size 640x480 with 1 Axes>"
      ]
     },
     "metadata": {},
     "output_type": "display_data"
    }
   ],
   "source": [
    "# Create visualization 3 here:\n",
    "# The three dictionaries, complaints, sales_support, and product_support, have the information you need\n",
    "\n",
    "purpose_group = df.groupby(\"Call Purpose\")\n",
    "call_purpose = [\"Complaint\", \"Product Support\", \"Sales Support\"]\n",
    "purpose_counts = purpose_group[\"Incoming or Outgoing\"].value_counts()\n",
    "# print(purpose_counts)\n",
    "\n",
    "complaints = purpose_counts[\"Complaint\"].to_dict()\n",
    "sales_support = purpose_counts[\"Sales Support\"].to_dict()\n",
    "product_support = purpose_counts[\"Product Support\"].to_dict()\n",
    "\n",
    "#Your Code Here:\n",
    "product_support_values1 = product_support.get('Incoming',0)\n",
    "product_support_values2 = product_support.get('Outgoing',0)\n",
    "\n",
    "sales_support_values1 = sales_support.get('Incoming',0)\n",
    "sales_support_values2 = sales_support.get('Outgoing',0)\n",
    "\n",
    "complaints_values = complaints.get('Incoming',0)\n",
    "\n",
    "\n",
    "index = np.arange(len(call_purpose))\n",
    "bar_width = .35\n",
    "\n",
    "fig, ax = plt.subplots()\n",
    "\n",
    "complaints_bar = ax.bar(index[0],complaints_values, bar_width, color='b')\n",
    "\n",
    "sales_support_top_bar = ax.bar(index[1],sales_support_values1, bar_width, label='Incoming', color='b')\n",
    "sales_support_bottom_bar = ax.bar(index[1],sales_support_values2, bar_width, bottom=sales_support_values1, label='Outgoing', color='lightblue')\n",
    "\n",
    "product_support_top_bar = ax.bar(index[2],product_support_values1, bar_width, color='b')\n",
    "product_support_bottom_bar = ax.bar(index[2],product_support_values2, bar_width, bottom=product_support_values1, color='lightblue')\n",
    "\n",
    "ax.set_xlabel('Type of Call')\n",
    "ax.set_ylabel('Number of Calls')\n",
    "ax.set_title('Outgoing vs Incoming Calls')\n",
    "ax.set_xticks(index)\n",
    "ax.set_xticklabels(call_purpose)\n",
    "ax.legend()\n",
    "plt.show()\n"
   ]
  },
  {
   "cell_type": "markdown",
   "id": "9198bbe4-44ef-4e21-bd40-6ace8e9f7694",
   "metadata": {},
   "source": [
    "##### Record your answer below:\n",
    "\n",
    "> Chart style you chose and why: I seem to really like bar charts, but here i mixed it up for a stacked bar chart because that was an easy way to get a quick snapshot of the data. although product support and sales support are close."
   ]
  },
  {
   "cell_type": "markdown",
   "id": "ea7ed568",
   "metadata": {},
   "source": [
    "## Task 5: Summarize Your Work\n",
    "\n",
    "With what you know now about the two call centers and the entire company, answer the following questions. Note that while this is subjective, you should include relevant data to back up your opinion.\n"
   ]
  },
  {
   "cell_type": "markdown",
   "id": "d2fc3d13",
   "metadata": {},
   "source": [
    "#### Summary Question 1:  Using KPIs such as average abandonment rate, service level and average speed of answer, in your opinion, which one of the two branches is operating more efficiently? Why?\n",
    "\n",
    "##### Record your answer below:\n",
    "> Your Answer: I believe the North branch is operating most efficiently. While their call abandonment rate is high, their percentage of calls under 2 seconds is higher than the south branch, albeit with less calls, and their average speed of answer is almost the same. This all with 2 fewer employees than the south branch.\n",
    "\n"
   ]
  },
  {
   "cell_type": "markdown",
   "id": "489f28d6",
   "metadata": {},
   "source": [
    "#### Summary Question 2: Based on the number of reps in each branch and how quickly the reps are working, in your opinion, which branch would benefit from the extra help?\n",
    "\n",
    "##### Record your answer below:\n",
    "> Your Answer: I believe the North branch would benefit most from the extra help, they are already close to the rates of the south branch and if they had an equal number of empolyees this might drive the abandoment rate down and help them to thrive.\n"
   ]
  },
  {
   "cell_type": "markdown",
   "id": "0b10a8c3",
   "metadata": {},
   "source": [
    "#### Summary Question 3: Now that you have explored the datasets, is there any data or information that you wish you had in this analysis?\n",
    "\n",
    "##### Record your answer below:\n",
    "> Your Answer: more information on the resolution of the calls, customer satisfaction etc would be helpful in determining the effectivness of each branch. \n"
   ]
  },
  {
   "cell_type": "markdown",
   "id": "ce16f43d",
   "metadata": {},
   "source": [
    "## Bonus Mission\n",
    "Create a visualization that answers this question: For each call purpose, how many calls (incoming and outgoing) take place in each time block?\n",
    "##### Record your answer below:\n",
    "\n",
    "> Chart style you chose and why: "
   ]
  },
  {
   "cell_type": "code",
   "execution_count": 4,
   "id": "71b04f32",
   "metadata": {},
   "outputs": [
    {
     "ename": "NameError",
     "evalue": "name 'df' is not defined",
     "output_type": "error",
     "traceback": [
      "\u001b[0;31m---------------------------------------------------------------------------\u001b[0m",
      "\u001b[0;31mNameError\u001b[0m                                 Traceback (most recent call last)",
      "\u001b[0;32m/tmp/ipykernel_10106/3163764672.py\u001b[0m in \u001b[0;36m<module>\u001b[0;34m\u001b[0m\n\u001b[1;32m      1\u001b[0m \u001b[0;31m# Create your Bonus Mission visualization here!\u001b[0m\u001b[0;34m\u001b[0m\u001b[0;34m\u001b[0m\u001b[0m\n\u001b[0;32m----> 2\u001b[0;31m \u001b[0mcall_times\u001b[0m \u001b[0;34m=\u001b[0m \u001b[0mdf\u001b[0m\u001b[0;34m[\u001b[0m\u001b[0;34m[\u001b[0m\u001b[0;34m\"Time Block\"\u001b[0m\u001b[0;34m,\u001b[0m \u001b[0;34m\"Call Purpose\"\u001b[0m\u001b[0;34m,\u001b[0m \u001b[0;34m\"Incoming or Outgoing\"\u001b[0m\u001b[0;34m,\u001b[0m \u001b[0;34m\"Calls\"\u001b[0m\u001b[0;34m]\u001b[0m\u001b[0;34m]\u001b[0m\u001b[0;34m\u001b[0m\u001b[0;34m\u001b[0m\u001b[0m\n\u001b[0m\u001b[1;32m      3\u001b[0m \u001b[0;34m\u001b[0m\u001b[0m\n\u001b[1;32m      4\u001b[0m \u001b[0;31m# Use groupby to plot based on time blocks:\u001b[0m\u001b[0;34m\u001b[0m\u001b[0;34m\u001b[0m\u001b[0m\n\u001b[1;32m      5\u001b[0m \u001b[0;34m\u001b[0m\u001b[0m\n",
      "\u001b[0;31mNameError\u001b[0m: name 'df' is not defined"
     ]
    }
   ],
   "source": [
    "# Create your Bonus Mission visualization here!\n",
    "call_times = df[[\"Time Block\", \"Call Purpose\", \"Incoming or Outgoing\", \"Calls\"]]\n",
    "\n",
    "# Use groupby to plot based on time blocks:\n",
    "\n",
    "# Use groupby and get_group to select which call purpose to plot:"
   ]
  }
 ],
 "metadata": {
  "kernelspec": {
   "display_name": "Python 3 (ipykernel)",
   "language": "python",
   "name": "python3"
  },
  "language_info": {
   "codemirror_mode": {
    "name": "ipython",
    "version": 3
   },
   "file_extension": ".py",
   "mimetype": "text/x-python",
   "name": "python",
   "nbconvert_exporter": "python",
   "pygments_lexer": "ipython3",
   "version": "3.12.5"
  }
 },
 "nbformat": 4,
 "nbformat_minor": 5
}
